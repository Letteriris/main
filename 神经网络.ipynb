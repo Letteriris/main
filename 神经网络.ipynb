{
 "cells": [
  {
   "cell_type": "markdown",
   "metadata": {},
   "source": [
    "# 一、作业要求"
   ]
  },
  {
   "cell_type": "markdown",
   "metadata": {},
   "source": [
    "基本要求：\n",
    "● 使用sklearn 的 MLP 实现神经网络\n",
    "\n",
    "● 数据要求：\n",
    "\n",
    "● 回归问题：\n",
    "    \n",
    "● $y=sin(x)/x+\\mu,取x\\in[-3,3],step=1000$\n",
    "● 选取任意标准数据集测试\n",
    "\n",
    "● 分类问题：\n",
    "    \n",
    "● 随机样本2分类\n",
    "● 选取任意标准数据集测试\n"
   ]
  },
  {
   "cell_type": "markdown",
   "metadata": {},
   "source": [
    "# 回归问题"
   ]
  },
  {
   "cell_type": "code",
   "execution_count": 4,
   "metadata": {},
   "outputs": [
    {
     "name": "stderr",
     "output_type": "stream",
     "text": [
      "C:\\Users\\Letter\\Anaconda3\\lib\\site-packages\\sklearn\\neural_network\\multilayer_perceptron.py:1316: DataConversionWarning: A column-vector y was passed when a 1d array was expected. Please change the shape of y to (n_samples, ), for example using ravel().\n",
      "  y = column_or_1d(y, warn=True)\n"
     ]
    },
    {
     "name": "stdout",
     "output_type": "stream",
     "text": [
      "回归模型得分： 0.86205530728104\n"
     ]
    }
   ],
   "source": [
    "import numpy as np\n",
    "import random\n",
    "from sklearn.neural_network import MLPRegressor\n",
    "from sklearn.model_selection import train_test_split\n",
    "x = np.linspace(-3,3,1000)\n",
    "y = [np.sin(i)/i + 7 + 0.1 * np.random.normal(0,1) for i in x]\n",
    "x = np.array([x]).T\n",
    "y = np.array([y]).T\n",
    "x_train,x_test,y_train,y_test = train_test_split(x,y,test_size = 0.2)\n",
    "modle_mlp = MLPRegressor(hidden_layer_sizes=(100,50),activation='tanh',solver='adam',batch_size='auto')\n",
    "modle_mlp.fit(x_train,y_train)\n",
    "print('回归模型得分：',modle_mlp.score(x_train,y_train))"
   ]
  },
  {
   "cell_type": "markdown",
   "metadata": {},
   "source": [
    "# 分类问题"
   ]
  },
  {
   "cell_type": "code",
   "execution_count": 9,
   "metadata": {},
   "outputs": [
    {
     "name": "stdout",
     "output_type": "stream",
     "text": [
      "[1 0 1 0 1 1 1 0 0 1 1 1 1 1 1 1 0 1 1 0 1 0 0 1 1 1 1 0 1 0 0 1 1 0 0 1 0\n",
      " 0 0 1 0 0 1 0 0 0 0 0 1 0 1 1 0 1 0 0 1 1 0 0 0 0 1 0 0 0 1 1 1 0 0 1 0 0\n",
      " 0 1 0 1 0 0 1 1 1 1 0 0 0 1 1 1 0 1 0 1 1 0 0 0 1 0]\n",
      "测试集得分： 0.94\n"
     ]
    },
    {
     "name": "stderr",
     "output_type": "stream",
     "text": [
      "C:\\Users\\Letter\\Anaconda3\\lib\\site-packages\\sklearn\\neural_network\\multilayer_perceptron.py:916: DataConversionWarning: A column-vector y was passed when a 1d array was expected. Please change the shape of y to (n_samples, ), for example using ravel().\n",
      "  y = column_or_1d(y, warn=True)\n"
     ]
    }
   ],
   "source": [
    "from sklearn.neural_network import MLPClassifier\n",
    "from sklearn.datasets import make_classification\n",
    "import numpy as np\n",
    "import math\n",
    "x,y = make_classification(n_samples=200,n_features=5,n_informative=2,n_redundant=0,n_repeated=0,n_classes=2)\n",
    "x_train,x_test = np.array(x[:100]),np.array(x[100:])\n",
    "y_train,y_test = np.array([y[:100]]).T,np.array([y[100:]]).T\n",
    "mlp = MLPClassifier(solver='lbfgs',hidden_layer_sizes=(200, 100))\n",
    "mlp.fit(x_train, y_train)                         \n",
    "print(mlp.predict(x_test))\n",
    "print('测试集得分：',mlp.score(x_test,y_test))"
   ]
  },
  {
   "cell_type": "code",
   "execution_count": null,
   "metadata": {},
   "outputs": [],
   "source": []
  }
 ],
 "metadata": {
  "kernelspec": {
   "display_name": "Python 3",
   "language": "python",
   "name": "python3"
  },
  "language_info": {
   "codemirror_mode": {
    "name": "ipython",
    "version": 3
   },
   "file_extension": ".py",
   "mimetype": "text/x-python",
   "name": "python",
   "nbconvert_exporter": "python",
   "pygments_lexer": "ipython3",
   "version": "3.7.3"
  }
 },
 "nbformat": 4,
 "nbformat_minor": 2
}
